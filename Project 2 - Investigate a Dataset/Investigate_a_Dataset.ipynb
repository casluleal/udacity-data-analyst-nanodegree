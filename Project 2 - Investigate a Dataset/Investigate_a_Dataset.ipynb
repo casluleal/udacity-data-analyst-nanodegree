{
 "cells": [
  {
   "cell_type": "markdown",
   "metadata": {},
   "source": [
    "# Project: How Economic and Educational Aspects Affect Population's Mental Health\n",
    "\n",
    "## Table of Contents\n",
    "<ul>\n",
    "<li><a href=\"#intro\">Introduction</a></li>\n",
    "<li><a href=\"#wrangling\">Data Wrangling</a></li>\n",
    "<li><a href=\"#eda\">Exploratory Data Analysis</a></li>\n",
    "<li><a href=\"#conclusions\">Conclusions</a></li>\n",
    "</ul>"
   ]
  },
  {
   "cell_type": "markdown",
   "metadata": {},
   "source": [
    "<a id='intro'></a>\n",
    "## Introduction\n",
    "\n",
    "Using the available data in [Gapminder](https://www.gapminder.org/data/), I will try to see how much different aspects from a country regarding the *economy* and *education* can affect the *mental health* from local population, regarding estimated suicidals per year.\n",
    "\n",
    "The datasets are separated, thus a process of merging and cleaning is needed in order to correlate the different variables from a country, during the years.\n",
    "\n",
    "### Datasets used\n",
    "\n",
    "**1. Population, total:** total population in the country, per year.\n",
    "\n",
    "**2. Suicide, total deaths:** total number of estimated deaths from self-inflicted injury, per country and year.\n",
    "\n",
    "**3. GDP per capita (U$S, inflation-adjusted):** [Gross Domestic Product](https://www.investopedia.com/terms/g/gdp.asp) divided by midyear population, in constant 2010 U.S. Dollars for better comparison between years, per country and year.\n",
    "\n",
    "**4. Mean years in school (men 25 years and older):** the average number of years of school attended by all males older than 24 years, including primary, secondary and tertiary education.\n",
    "\n",
    "**5. Mean years in school (women 25 years and older):** the average number of years of school attended by all females older than 24 years, including primary, secondary and tertiary education.\n",
    "\n",
    "**6. Geo Countries:** a dataset to match each country with its respective continent.\n",
    "\n",
    "### Questions\n",
    "\n",
    "**1.** How the suicidal numbers growing worldwide over the time? Are they following the same pattern as the total population?\n",
    "\n",
    "**2.** Is there any relation between economic and suicidal numbers of the countries? And what about educational level?\n",
    "\n",
    "**3.** If we separate the suicidal rate for each continent, how different each one behaves during the period?"
   ]
  },
  {
   "cell_type": "code",
   "execution_count": 1,
   "metadata": {},
   "outputs": [],
   "source": [
    "import numpy as np\n",
    "import pandas as pd\n",
    "import matplotlib.pyplot as plt\n",
    "import seaborn as sns\n",
    "\n",
    "%matplotlib inline"
   ]
  },
  {
   "cell_type": "markdown",
   "metadata": {},
   "source": [
    "<a id='wrangling'></a>\n",
    "## Data Wrangling\n",
    "\n",
    "### General Properties"
   ]
  },
  {
   "cell_type": "code",
   "execution_count": 2,
   "metadata": {
    "scrolled": true
   },
   "outputs": [
    {
     "name": "stdout",
     "output_type": "stream",
     "text": [
      "df_suicides_total: \t (194, 28)\n",
      "df_population:\t\t (197, 302)\n",
      "df_gdp_per_capita:\t (206, 61)\n",
      "df_school_men:\t\t (175, 41)\n",
      "df_school_women:\t (175, 41)\n",
      "df_country:\t\t (273, 2)\n"
     ]
    }
   ],
   "source": [
    "df_suicides_total = pd.read_csv('suicide_total_deaths.csv')\n",
    "df_population = pd.read_csv('population_total.csv')\n",
    "df_gdp_per_capita = pd.read_csv('gdppercapita_us_inflation_adjusted.csv')\n",
    "df_school_men = pd.read_csv('mean_years_in_school_men_25_years_and_older.csv')\n",
    "df_school_women = pd.read_csv('mean_years_in_school_women_25_years_and_older.csv')\n",
    "df_country = pd.read_csv('ddf--entities--geo--country.csv', usecols=['name', 'world_4region'])\n",
    "\n",
    "print('df_suicides_total: \\t', df_suicides_total.shape)\n",
    "print('df_population:\\t\\t', df_population.shape)\n",
    "print('df_gdp_per_capita:\\t', df_gdp_per_capita.shape)\n",
    "print('df_school_men:\\t\\t', df_school_men.shape)\n",
    "print('df_school_women:\\t', df_school_women.shape)\n",
    "print('df_country:\\t\\t', df_country.shape)"
   ]
  },
  {
   "cell_type": "code",
   "execution_count": 3,
   "metadata": {
    "scrolled": true
   },
   "outputs": [
    {
     "data": {
      "text/html": [
       "<div>\n",
       "<style scoped>\n",
       "    .dataframe tbody tr th:only-of-type {\n",
       "        vertical-align: middle;\n",
       "    }\n",
       "\n",
       "    .dataframe tbody tr th {\n",
       "        vertical-align: top;\n",
       "    }\n",
       "\n",
       "    .dataframe thead th {\n",
       "        text-align: right;\n",
       "    }\n",
       "</style>\n",
       "<table border=\"1\" class=\"dataframe\">\n",
       "  <thead>\n",
       "    <tr style=\"text-align: right;\">\n",
       "      <th></th>\n",
       "      <th>name</th>\n",
       "      <th>world_4region</th>\n",
       "    </tr>\n",
       "  </thead>\n",
       "  <tbody>\n",
       "    <tr>\n",
       "      <th>0</th>\n",
       "      <td>Abkhazia</td>\n",
       "      <td>europe</td>\n",
       "    </tr>\n",
       "    <tr>\n",
       "      <th>1</th>\n",
       "      <td>Aruba</td>\n",
       "      <td>americas</td>\n",
       "    </tr>\n",
       "    <tr>\n",
       "      <th>2</th>\n",
       "      <td>Afghanistan</td>\n",
       "      <td>asia</td>\n",
       "    </tr>\n",
       "    <tr>\n",
       "      <th>3</th>\n",
       "      <td>Angola</td>\n",
       "      <td>africa</td>\n",
       "    </tr>\n",
       "    <tr>\n",
       "      <th>4</th>\n",
       "      <td>Anguilla</td>\n",
       "      <td>americas</td>\n",
       "    </tr>\n",
       "  </tbody>\n",
       "</table>\n",
       "</div>"
      ],
      "text/plain": [
       "          name world_4region\n",
       "0     Abkhazia        europe\n",
       "1        Aruba      americas\n",
       "2  Afghanistan          asia\n",
       "3       Angola        africa\n",
       "4     Anguilla      americas"
      ]
     },
     "execution_count": 3,
     "metadata": {},
     "output_type": "execute_result"
    }
   ],
   "source": [
    "df_country.head()"
   ]
  },
  {
   "cell_type": "code",
   "execution_count": 4,
   "metadata": {
    "scrolled": true
   },
   "outputs": [
    {
     "data": {
      "text/html": [
       "<div>\n",
       "<style scoped>\n",
       "    .dataframe tbody tr th:only-of-type {\n",
       "        vertical-align: middle;\n",
       "    }\n",
       "\n",
       "    .dataframe tbody tr th {\n",
       "        vertical-align: top;\n",
       "    }\n",
       "\n",
       "    .dataframe thead th {\n",
       "        text-align: right;\n",
       "    }\n",
       "</style>\n",
       "<table border=\"1\" class=\"dataframe\">\n",
       "  <thead>\n",
       "    <tr style=\"text-align: right;\">\n",
       "      <th></th>\n",
       "      <th>country</th>\n",
       "      <th>1990</th>\n",
       "      <th>1991</th>\n",
       "      <th>1992</th>\n",
       "      <th>1993</th>\n",
       "      <th>1994</th>\n",
       "      <th>1995</th>\n",
       "      <th>1996</th>\n",
       "      <th>1997</th>\n",
       "      <th>1998</th>\n",
       "      <th>...</th>\n",
       "      <th>2007</th>\n",
       "      <th>2008</th>\n",
       "      <th>2009</th>\n",
       "      <th>2010</th>\n",
       "      <th>2011</th>\n",
       "      <th>2012</th>\n",
       "      <th>2013</th>\n",
       "      <th>2014</th>\n",
       "      <th>2015</th>\n",
       "      <th>2016</th>\n",
       "    </tr>\n",
       "  </thead>\n",
       "  <tbody>\n",
       "    <tr>\n",
       "      <th>0</th>\n",
       "      <td>Afghanistan</td>\n",
       "      <td>703</td>\n",
       "      <td>754</td>\n",
       "      <td>820</td>\n",
       "      <td>894</td>\n",
       "      <td>977</td>\n",
       "      <td>1050</td>\n",
       "      <td>1100</td>\n",
       "      <td>1130</td>\n",
       "      <td>1170</td>\n",
       "      <td>...</td>\n",
       "      <td>1680</td>\n",
       "      <td>1710</td>\n",
       "      <td>1750</td>\n",
       "      <td>1760</td>\n",
       "      <td>1810</td>\n",
       "      <td>1870</td>\n",
       "      <td>1990</td>\n",
       "      <td>2080</td>\n",
       "      <td>2170</td>\n",
       "      <td>2250</td>\n",
       "    </tr>\n",
       "    <tr>\n",
       "      <th>1</th>\n",
       "      <td>Angola</td>\n",
       "      <td>645</td>\n",
       "      <td>653</td>\n",
       "      <td>667</td>\n",
       "      <td>700</td>\n",
       "      <td>735</td>\n",
       "      <td>756</td>\n",
       "      <td>738</td>\n",
       "      <td>738</td>\n",
       "      <td>816</td>\n",
       "      <td>...</td>\n",
       "      <td>1040</td>\n",
       "      <td>1060</td>\n",
       "      <td>1080</td>\n",
       "      <td>1100</td>\n",
       "      <td>1120</td>\n",
       "      <td>1140</td>\n",
       "      <td>1170</td>\n",
       "      <td>1200</td>\n",
       "      <td>1220</td>\n",
       "      <td>1230</td>\n",
       "    </tr>\n",
       "    <tr>\n",
       "      <th>2</th>\n",
       "      <td>Albania</td>\n",
       "      <td>127</td>\n",
       "      <td>130</td>\n",
       "      <td>131</td>\n",
       "      <td>135</td>\n",
       "      <td>136</td>\n",
       "      <td>142</td>\n",
       "      <td>150</td>\n",
       "      <td>162</td>\n",
       "      <td>170</td>\n",
       "      <td>...</td>\n",
       "      <td>204</td>\n",
       "      <td>205</td>\n",
       "      <td>201</td>\n",
       "      <td>195</td>\n",
       "      <td>191</td>\n",
       "      <td>188</td>\n",
       "      <td>186</td>\n",
       "      <td>184</td>\n",
       "      <td>183</td>\n",
       "      <td>181</td>\n",
       "    </tr>\n",
       "    <tr>\n",
       "      <th>3</th>\n",
       "      <td>Andorra</td>\n",
       "      <td>5.45</td>\n",
       "      <td>5.82</td>\n",
       "      <td>6.18</td>\n",
       "      <td>6.33</td>\n",
       "      <td>6.36</td>\n",
       "      <td>6.17</td>\n",
       "      <td>6.04</td>\n",
       "      <td>6.28</td>\n",
       "      <td>6.24</td>\n",
       "      <td>...</td>\n",
       "      <td>7.39</td>\n",
       "      <td>7.53</td>\n",
       "      <td>7.67</td>\n",
       "      <td>7.76</td>\n",
       "      <td>7.85</td>\n",
       "      <td>7.92</td>\n",
       "      <td>7.97</td>\n",
       "      <td>7.72</td>\n",
       "      <td>7.78</td>\n",
       "      <td>7.84</td>\n",
       "    </tr>\n",
       "    <tr>\n",
       "      <th>4</th>\n",
       "      <td>United Arab Emirates</td>\n",
       "      <td>70.8</td>\n",
       "      <td>77.6</td>\n",
       "      <td>84.2</td>\n",
       "      <td>91.7</td>\n",
       "      <td>99.2</td>\n",
       "      <td>111</td>\n",
       "      <td>117</td>\n",
       "      <td>125</td>\n",
       "      <td>129</td>\n",
       "      <td>...</td>\n",
       "      <td>347</td>\n",
       "      <td>312</td>\n",
       "      <td>358</td>\n",
       "      <td>399</td>\n",
       "      <td>423</td>\n",
       "      <td>436</td>\n",
       "      <td>443</td>\n",
       "      <td>445</td>\n",
       "      <td>446</td>\n",
       "      <td>445</td>\n",
       "    </tr>\n",
       "  </tbody>\n",
       "</table>\n",
       "<p>5 rows × 28 columns</p>\n",
       "</div>"
      ],
      "text/plain": [
       "                country  1990  1991  1992  1993  1994  1995  1996  1997  1998  \\\n",
       "0           Afghanistan   703   754   820   894   977  1050  1100  1130  1170   \n",
       "1                Angola   645   653   667   700   735   756   738   738   816   \n",
       "2               Albania   127   130   131   135   136   142   150   162   170   \n",
       "3               Andorra  5.45  5.82  6.18  6.33  6.36  6.17  6.04  6.28  6.24   \n",
       "4  United Arab Emirates  70.8  77.6  84.2  91.7  99.2   111   117   125   129   \n",
       "\n",
       "   ...  2007  2008  2009  2010  2011  2012  2013  2014  2015  2016  \n",
       "0  ...  1680  1710  1750  1760  1810  1870  1990  2080  2170  2250  \n",
       "1  ...  1040  1060  1080  1100  1120  1140  1170  1200  1220  1230  \n",
       "2  ...   204   205   201   195   191   188   186   184   183   181  \n",
       "3  ...  7.39  7.53  7.67  7.76  7.85  7.92  7.97  7.72  7.78  7.84  \n",
       "4  ...   347   312   358   399   423   436   443   445   446   445  \n",
       "\n",
       "[5 rows x 28 columns]"
      ]
     },
     "execution_count": 4,
     "metadata": {},
     "output_type": "execute_result"
    }
   ],
   "source": [
    "df_suicides_total.head()"
   ]
  },
  {
   "cell_type": "markdown",
   "metadata": {},
   "source": [
    "First thing to note is that we have different shapes in all DataFrames, which means that some of them have more _countries_ and/or _years_ than others. As our central object of study is the **mental health** (suicide numbers), we should stick to the countries and years available in the `df_suicide`.\n",
    "\n",
    "Also, considering that for making the analysis we should have only one with all the features, the first thing to tackle is merging them."
   ]
  },
  {
   "cell_type": "code",
   "execution_count": 5,
   "metadata": {},
   "outputs": [
    {
     "name": "stdout",
     "output_type": "stream",
     "text": [
      "True\n",
      "(175, 41)\n"
     ]
    }
   ],
   "source": [
    "# Checking if the shape (columns and lines) of both Mean School Years are the same\n",
    "#    If they are the same, we can get the mean for total population by concatenating\n",
    "#    and then grouping by country and year\n",
    "print(df_school_men.shape == df_school_women.shape)\n",
    "print(df_school_men.shape)"
   ]
  },
  {
   "cell_type": "code",
   "execution_count": 6,
   "metadata": {
    "scrolled": true
   },
   "outputs": [
    {
     "data": {
      "text/html": [
       "<div>\n",
       "<style scoped>\n",
       "    .dataframe tbody tr th:only-of-type {\n",
       "        vertical-align: middle;\n",
       "    }\n",
       "\n",
       "    .dataframe tbody tr th {\n",
       "        vertical-align: top;\n",
       "    }\n",
       "\n",
       "    .dataframe thead th {\n",
       "        text-align: right;\n",
       "    }\n",
       "</style>\n",
       "<table border=\"1\" class=\"dataframe\">\n",
       "  <thead>\n",
       "    <tr style=\"text-align: right;\">\n",
       "      <th></th>\n",
       "      <th>country</th>\n",
       "      <th>1970</th>\n",
       "      <th>1971</th>\n",
       "      <th>1972</th>\n",
       "      <th>1973</th>\n",
       "      <th>1974</th>\n",
       "      <th>1975</th>\n",
       "      <th>1976</th>\n",
       "      <th>1977</th>\n",
       "      <th>1978</th>\n",
       "      <th>...</th>\n",
       "      <th>2000</th>\n",
       "      <th>2001</th>\n",
       "      <th>2002</th>\n",
       "      <th>2003</th>\n",
       "      <th>2004</th>\n",
       "      <th>2005</th>\n",
       "      <th>2006</th>\n",
       "      <th>2007</th>\n",
       "      <th>2008</th>\n",
       "      <th>2009</th>\n",
       "    </tr>\n",
       "  </thead>\n",
       "  <tbody>\n",
       "    <tr>\n",
       "      <th>0</th>\n",
       "      <td>Afghanistan</td>\n",
       "      <td>0.35</td>\n",
       "      <td>0.40</td>\n",
       "      <td>0.45</td>\n",
       "      <td>0.45</td>\n",
       "      <td>0.45</td>\n",
       "      <td>0.50</td>\n",
       "      <td>0.50</td>\n",
       "      <td>0.50</td>\n",
       "      <td>0.55</td>\n",
       "      <td>...</td>\n",
       "      <td>1.15</td>\n",
       "      <td>1.20</td>\n",
       "      <td>1.25</td>\n",
       "      <td>1.30</td>\n",
       "      <td>1.30</td>\n",
       "      <td>1.35</td>\n",
       "      <td>1.35</td>\n",
       "      <td>1.40</td>\n",
       "      <td>1.45</td>\n",
       "      <td>1.50</td>\n",
       "    </tr>\n",
       "    <tr>\n",
       "      <th>1</th>\n",
       "      <td>Albania</td>\n",
       "      <td>4.50</td>\n",
       "      <td>4.60</td>\n",
       "      <td>4.70</td>\n",
       "      <td>4.85</td>\n",
       "      <td>4.95</td>\n",
       "      <td>5.10</td>\n",
       "      <td>5.25</td>\n",
       "      <td>5.35</td>\n",
       "      <td>5.45</td>\n",
       "      <td>...</td>\n",
       "      <td>8.55</td>\n",
       "      <td>8.70</td>\n",
       "      <td>8.85</td>\n",
       "      <td>9.00</td>\n",
       "      <td>9.10</td>\n",
       "      <td>9.30</td>\n",
       "      <td>9.40</td>\n",
       "      <td>9.55</td>\n",
       "      <td>9.65</td>\n",
       "      <td>9.80</td>\n",
       "    </tr>\n",
       "    <tr>\n",
       "      <th>2</th>\n",
       "      <td>Algeria</td>\n",
       "      <td>0.75</td>\n",
       "      <td>0.75</td>\n",
       "      <td>0.80</td>\n",
       "      <td>0.90</td>\n",
       "      <td>0.90</td>\n",
       "      <td>1.00</td>\n",
       "      <td>1.00</td>\n",
       "      <td>1.10</td>\n",
       "      <td>1.15</td>\n",
       "      <td>...</td>\n",
       "      <td>3.35</td>\n",
       "      <td>3.45</td>\n",
       "      <td>3.55</td>\n",
       "      <td>3.70</td>\n",
       "      <td>3.80</td>\n",
       "      <td>3.95</td>\n",
       "      <td>4.10</td>\n",
       "      <td>4.20</td>\n",
       "      <td>4.30</td>\n",
       "      <td>4.45</td>\n",
       "    </tr>\n",
       "    <tr>\n",
       "      <th>3</th>\n",
       "      <td>Angola</td>\n",
       "      <td>0.95</td>\n",
       "      <td>1.00</td>\n",
       "      <td>1.00</td>\n",
       "      <td>1.05</td>\n",
       "      <td>1.15</td>\n",
       "      <td>1.15</td>\n",
       "      <td>1.20</td>\n",
       "      <td>1.30</td>\n",
       "      <td>1.35</td>\n",
       "      <td>...</td>\n",
       "      <td>2.95</td>\n",
       "      <td>3.05</td>\n",
       "      <td>3.20</td>\n",
       "      <td>3.30</td>\n",
       "      <td>3.40</td>\n",
       "      <td>3.50</td>\n",
       "      <td>3.60</td>\n",
       "      <td>3.75</td>\n",
       "      <td>3.85</td>\n",
       "      <td>3.95</td>\n",
       "    </tr>\n",
       "    <tr>\n",
       "      <th>4</th>\n",
       "      <td>Antigua and Barbuda</td>\n",
       "      <td>7.00</td>\n",
       "      <td>7.10</td>\n",
       "      <td>7.20</td>\n",
       "      <td>7.40</td>\n",
       "      <td>7.50</td>\n",
       "      <td>7.65</td>\n",
       "      <td>7.80</td>\n",
       "      <td>7.95</td>\n",
       "      <td>8.10</td>\n",
       "      <td>...</td>\n",
       "      <td>11.10</td>\n",
       "      <td>11.25</td>\n",
       "      <td>11.35</td>\n",
       "      <td>11.45</td>\n",
       "      <td>11.55</td>\n",
       "      <td>11.65</td>\n",
       "      <td>11.70</td>\n",
       "      <td>11.80</td>\n",
       "      <td>11.90</td>\n",
       "      <td>12.00</td>\n",
       "    </tr>\n",
       "  </tbody>\n",
       "</table>\n",
       "<p>5 rows × 41 columns</p>\n",
       "</div>"
      ],
      "text/plain": [
       "               country  1970  1971  1972  1973  1974  1975  1976  1977  1978  \\\n",
       "0          Afghanistan  0.35  0.40  0.45  0.45  0.45  0.50  0.50  0.50  0.55   \n",
       "1              Albania  4.50  4.60  4.70  4.85  4.95  5.10  5.25  5.35  5.45   \n",
       "2              Algeria  0.75  0.75  0.80  0.90  0.90  1.00  1.00  1.10  1.15   \n",
       "3               Angola  0.95  1.00  1.00  1.05  1.15  1.15  1.20  1.30  1.35   \n",
       "4  Antigua and Barbuda  7.00  7.10  7.20  7.40  7.50  7.65  7.80  7.95  8.10   \n",
       "\n",
       "   ...   2000   2001   2002   2003   2004   2005   2006   2007   2008   2009  \n",
       "0  ...   1.15   1.20   1.25   1.30   1.30   1.35   1.35   1.40   1.45   1.50  \n",
       "1  ...   8.55   8.70   8.85   9.00   9.10   9.30   9.40   9.55   9.65   9.80  \n",
       "2  ...   3.35   3.45   3.55   3.70   3.80   3.95   4.10   4.20   4.30   4.45  \n",
       "3  ...   2.95   3.05   3.20   3.30   3.40   3.50   3.60   3.75   3.85   3.95  \n",
       "4  ...  11.10  11.25  11.35  11.45  11.55  11.65  11.70  11.80  11.90  12.00  \n",
       "\n",
       "[5 rows x 41 columns]"
      ]
     },
     "execution_count": 6,
     "metadata": {},
     "output_type": "execute_result"
    }
   ],
   "source": [
    "df_school = pd.concat([df_school_men, df_school_women])\n",
    "df_school = df_school.groupby(['country'], as_index=False).mean()\n",
    "df_school.head()"
   ]
  },
  {
   "cell_type": "markdown",
   "metadata": {},
   "source": [
    "Now that we have all the DataFrames on the same shape, we need to reshape all of them in order to each DataFrame have the shape of a feature by **country** and **year**, instead of a table of country and years for each feature.\n",
    "\n",
    "This can be done by _stacking_ them, and making the country a _index_. This will make the DataFrame go into a vertical form, instead of the original horizontal form. With all the DataFrames in the desired shape, we can then merge them into one big DataFrame with different features for each country and year."
   ]
  },
  {
   "cell_type": "code",
   "execution_count": 7,
   "metadata": {},
   "outputs": [],
   "source": [
    "def restructure_dataframe(df, feature_name):\n",
    "    return df.set_index('country').stack().reset_index(name=feature_name).rename(columns={'level_1': 'year'})"
   ]
  },
  {
   "cell_type": "code",
   "execution_count": 8,
   "metadata": {
    "scrolled": true
   },
   "outputs": [
    {
     "data": {
      "text/html": [
       "<div>\n",
       "<style scoped>\n",
       "    .dataframe tbody tr th:only-of-type {\n",
       "        vertical-align: middle;\n",
       "    }\n",
       "\n",
       "    .dataframe tbody tr th {\n",
       "        vertical-align: top;\n",
       "    }\n",
       "\n",
       "    .dataframe thead th {\n",
       "        text-align: right;\n",
       "    }\n",
       "</style>\n",
       "<table border=\"1\" class=\"dataframe\">\n",
       "  <thead>\n",
       "    <tr style=\"text-align: right;\">\n",
       "      <th></th>\n",
       "      <th>country</th>\n",
       "      <th>year</th>\n",
       "      <th>suicides_total</th>\n",
       "    </tr>\n",
       "  </thead>\n",
       "  <tbody>\n",
       "    <tr>\n",
       "      <th>0</th>\n",
       "      <td>Afghanistan</td>\n",
       "      <td>1990</td>\n",
       "      <td>703</td>\n",
       "    </tr>\n",
       "    <tr>\n",
       "      <th>1</th>\n",
       "      <td>Afghanistan</td>\n",
       "      <td>1991</td>\n",
       "      <td>754</td>\n",
       "    </tr>\n",
       "    <tr>\n",
       "      <th>2</th>\n",
       "      <td>Afghanistan</td>\n",
       "      <td>1992</td>\n",
       "      <td>820</td>\n",
       "    </tr>\n",
       "    <tr>\n",
       "      <th>3</th>\n",
       "      <td>Afghanistan</td>\n",
       "      <td>1993</td>\n",
       "      <td>894</td>\n",
       "    </tr>\n",
       "    <tr>\n",
       "      <th>4</th>\n",
       "      <td>Afghanistan</td>\n",
       "      <td>1994</td>\n",
       "      <td>977</td>\n",
       "    </tr>\n",
       "  </tbody>\n",
       "</table>\n",
       "</div>"
      ],
      "text/plain": [
       "       country  year suicides_total\n",
       "0  Afghanistan  1990            703\n",
       "1  Afghanistan  1991            754\n",
       "2  Afghanistan  1992            820\n",
       "3  Afghanistan  1993            894\n",
       "4  Afghanistan  1994            977"
      ]
     },
     "execution_count": 8,
     "metadata": {},
     "output_type": "execute_result"
    }
   ],
   "source": [
    "# Feature: suicides_total\n",
    "df_ft_suicides_total = restructure_dataframe(df_suicides_total, 'suicides_total')\n",
    "df_ft_suicides_total.head()"
   ]
  },
  {
   "cell_type": "code",
   "execution_count": 9,
   "metadata": {},
   "outputs": [
    {
     "data": {
      "text/html": [
       "<div>\n",
       "<style scoped>\n",
       "    .dataframe tbody tr th:only-of-type {\n",
       "        vertical-align: middle;\n",
       "    }\n",
       "\n",
       "    .dataframe tbody tr th {\n",
       "        vertical-align: top;\n",
       "    }\n",
       "\n",
       "    .dataframe thead th {\n",
       "        text-align: right;\n",
       "    }\n",
       "</style>\n",
       "<table border=\"1\" class=\"dataframe\">\n",
       "  <thead>\n",
       "    <tr style=\"text-align: right;\">\n",
       "      <th></th>\n",
       "      <th>country</th>\n",
       "      <th>year</th>\n",
       "      <th>population_total</th>\n",
       "    </tr>\n",
       "  </thead>\n",
       "  <tbody>\n",
       "    <tr>\n",
       "      <th>0</th>\n",
       "      <td>Afghanistan</td>\n",
       "      <td>1799</td>\n",
       "      <td>3.28M</td>\n",
       "    </tr>\n",
       "    <tr>\n",
       "      <th>1</th>\n",
       "      <td>Afghanistan</td>\n",
       "      <td>1800</td>\n",
       "      <td>3.28M</td>\n",
       "    </tr>\n",
       "    <tr>\n",
       "      <th>2</th>\n",
       "      <td>Afghanistan</td>\n",
       "      <td>1801</td>\n",
       "      <td>3.28M</td>\n",
       "    </tr>\n",
       "    <tr>\n",
       "      <th>3</th>\n",
       "      <td>Afghanistan</td>\n",
       "      <td>1802</td>\n",
       "      <td>3.28M</td>\n",
       "    </tr>\n",
       "    <tr>\n",
       "      <th>4</th>\n",
       "      <td>Afghanistan</td>\n",
       "      <td>1803</td>\n",
       "      <td>3.28M</td>\n",
       "    </tr>\n",
       "  </tbody>\n",
       "</table>\n",
       "</div>"
      ],
      "text/plain": [
       "       country  year population_total\n",
       "0  Afghanistan  1799            3.28M\n",
       "1  Afghanistan  1800            3.28M\n",
       "2  Afghanistan  1801            3.28M\n",
       "3  Afghanistan  1802            3.28M\n",
       "4  Afghanistan  1803            3.28M"
      ]
     },
     "execution_count": 9,
     "metadata": {},
     "output_type": "execute_result"
    }
   ],
   "source": [
    "# Feature: population_total\n",
    "df_ft_population_total = restructure_dataframe(df_population, 'population_total')\n",
    "df_ft_population_total.head()"
   ]
  },
  {
   "cell_type": "code",
   "execution_count": 10,
   "metadata": {},
   "outputs": [
    {
     "data": {
      "text/html": [
       "<div>\n",
       "<style scoped>\n",
       "    .dataframe tbody tr th:only-of-type {\n",
       "        vertical-align: middle;\n",
       "    }\n",
       "\n",
       "    .dataframe tbody tr th {\n",
       "        vertical-align: top;\n",
       "    }\n",
       "\n",
       "    .dataframe thead th {\n",
       "        text-align: right;\n",
       "    }\n",
       "</style>\n",
       "<table border=\"1\" class=\"dataframe\">\n",
       "  <thead>\n",
       "    <tr style=\"text-align: right;\">\n",
       "      <th></th>\n",
       "      <th>country</th>\n",
       "      <th>year</th>\n",
       "      <th>gdp_per_capita</th>\n",
       "    </tr>\n",
       "  </thead>\n",
       "  <tbody>\n",
       "    <tr>\n",
       "      <th>0</th>\n",
       "      <td>Aruba</td>\n",
       "      <td>1986</td>\n",
       "      <td>15.7k</td>\n",
       "    </tr>\n",
       "    <tr>\n",
       "      <th>1</th>\n",
       "      <td>Aruba</td>\n",
       "      <td>1987</td>\n",
       "      <td>18.4k</td>\n",
       "    </tr>\n",
       "    <tr>\n",
       "      <th>2</th>\n",
       "      <td>Aruba</td>\n",
       "      <td>1988</td>\n",
       "      <td>22.1k</td>\n",
       "    </tr>\n",
       "    <tr>\n",
       "      <th>3</th>\n",
       "      <td>Aruba</td>\n",
       "      <td>1989</td>\n",
       "      <td>24.8k</td>\n",
       "    </tr>\n",
       "    <tr>\n",
       "      <th>4</th>\n",
       "      <td>Aruba</td>\n",
       "      <td>1990</td>\n",
       "      <td>25.4k</td>\n",
       "    </tr>\n",
       "  </tbody>\n",
       "</table>\n",
       "</div>"
      ],
      "text/plain": [
       "  country  year gdp_per_capita\n",
       "0   Aruba  1986          15.7k\n",
       "1   Aruba  1987          18.4k\n",
       "2   Aruba  1988          22.1k\n",
       "3   Aruba  1989          24.8k\n",
       "4   Aruba  1990          25.4k"
      ]
     },
     "execution_count": 10,
     "metadata": {},
     "output_type": "execute_result"
    }
   ],
   "source": [
    "# Feature: gdp_per_capita\n",
    "df_ft_gdp_per_capita = restructure_dataframe(df_gdp_per_capita, 'gdp_per_capita')\n",
    "df_ft_gdp_per_capita.head()"
   ]
  },
  {
   "cell_type": "code",
   "execution_count": 11,
   "metadata": {
    "scrolled": true
   },
   "outputs": [
    {
     "data": {
      "text/html": [
       "<div>\n",
       "<style scoped>\n",
       "    .dataframe tbody tr th:only-of-type {\n",
       "        vertical-align: middle;\n",
       "    }\n",
       "\n",
       "    .dataframe tbody tr th {\n",
       "        vertical-align: top;\n",
       "    }\n",
       "\n",
       "    .dataframe thead th {\n",
       "        text-align: right;\n",
       "    }\n",
       "</style>\n",
       "<table border=\"1\" class=\"dataframe\">\n",
       "  <thead>\n",
       "    <tr style=\"text-align: right;\">\n",
       "      <th></th>\n",
       "      <th>country</th>\n",
       "      <th>year</th>\n",
       "      <th>mean_school_years</th>\n",
       "    </tr>\n",
       "  </thead>\n",
       "  <tbody>\n",
       "    <tr>\n",
       "      <th>0</th>\n",
       "      <td>Afghanistan</td>\n",
       "      <td>1970</td>\n",
       "      <td>0.35</td>\n",
       "    </tr>\n",
       "    <tr>\n",
       "      <th>1</th>\n",
       "      <td>Afghanistan</td>\n",
       "      <td>1971</td>\n",
       "      <td>0.40</td>\n",
       "    </tr>\n",
       "    <tr>\n",
       "      <th>2</th>\n",
       "      <td>Afghanistan</td>\n",
       "      <td>1972</td>\n",
       "      <td>0.45</td>\n",
       "    </tr>\n",
       "    <tr>\n",
       "      <th>3</th>\n",
       "      <td>Afghanistan</td>\n",
       "      <td>1973</td>\n",
       "      <td>0.45</td>\n",
       "    </tr>\n",
       "    <tr>\n",
       "      <th>4</th>\n",
       "      <td>Afghanistan</td>\n",
       "      <td>1974</td>\n",
       "      <td>0.45</td>\n",
       "    </tr>\n",
       "  </tbody>\n",
       "</table>\n",
       "</div>"
      ],
      "text/plain": [
       "       country  year  mean_school_years\n",
       "0  Afghanistan  1970               0.35\n",
       "1  Afghanistan  1971               0.40\n",
       "2  Afghanistan  1972               0.45\n",
       "3  Afghanistan  1973               0.45\n",
       "4  Afghanistan  1974               0.45"
      ]
     },
     "execution_count": 11,
     "metadata": {},
     "output_type": "execute_result"
    }
   ],
   "source": [
    "# Feature: mean_school_years\n",
    "df_ft_mean_school_years = restructure_dataframe(df_school, 'mean_school_years')\n",
    "df_ft_mean_school_years.head()"
   ]
  },
  {
   "cell_type": "code",
   "execution_count": 12,
   "metadata": {
    "scrolled": true
   },
   "outputs": [
    {
     "data": {
      "text/html": [
       "<div>\n",
       "<style scoped>\n",
       "    .dataframe tbody tr th:only-of-type {\n",
       "        vertical-align: middle;\n",
       "    }\n",
       "\n",
       "    .dataframe tbody tr th {\n",
       "        vertical-align: top;\n",
       "    }\n",
       "\n",
       "    .dataframe thead th {\n",
       "        text-align: right;\n",
       "    }\n",
       "</style>\n",
       "<table border=\"1\" class=\"dataframe\">\n",
       "  <thead>\n",
       "    <tr style=\"text-align: right;\">\n",
       "      <th></th>\n",
       "      <th>country</th>\n",
       "      <th>year</th>\n",
       "      <th>suicides_total</th>\n",
       "      <th>gdp_per_capita</th>\n",
       "      <th>mean_school_years</th>\n",
       "      <th>population_total</th>\n",
       "    </tr>\n",
       "  </thead>\n",
       "  <tbody>\n",
       "    <tr>\n",
       "      <th>0</th>\n",
       "      <td>Afghanistan</td>\n",
       "      <td>1990</td>\n",
       "      <td>703</td>\n",
       "      <td>NaN</td>\n",
       "      <td>0.80</td>\n",
       "      <td>12.4M</td>\n",
       "    </tr>\n",
       "    <tr>\n",
       "      <th>1</th>\n",
       "      <td>Afghanistan</td>\n",
       "      <td>1991</td>\n",
       "      <td>754</td>\n",
       "      <td>NaN</td>\n",
       "      <td>0.90</td>\n",
       "      <td>13.3M</td>\n",
       "    </tr>\n",
       "    <tr>\n",
       "      <th>2</th>\n",
       "      <td>Afghanistan</td>\n",
       "      <td>1992</td>\n",
       "      <td>820</td>\n",
       "      <td>NaN</td>\n",
       "      <td>0.90</td>\n",
       "      <td>14.5M</td>\n",
       "    </tr>\n",
       "    <tr>\n",
       "      <th>3</th>\n",
       "      <td>Afghanistan</td>\n",
       "      <td>1993</td>\n",
       "      <td>894</td>\n",
       "      <td>NaN</td>\n",
       "      <td>0.95</td>\n",
       "      <td>15.8M</td>\n",
       "    </tr>\n",
       "    <tr>\n",
       "      <th>4</th>\n",
       "      <td>Afghanistan</td>\n",
       "      <td>1994</td>\n",
       "      <td>977</td>\n",
       "      <td>NaN</td>\n",
       "      <td>1.00</td>\n",
       "      <td>17.1M</td>\n",
       "    </tr>\n",
       "  </tbody>\n",
       "</table>\n",
       "</div>"
      ],
      "text/plain": [
       "       country  year suicides_total gdp_per_capita  mean_school_years  \\\n",
       "0  Afghanistan  1990            703            NaN               0.80   \n",
       "1  Afghanistan  1991            754            NaN               0.90   \n",
       "2  Afghanistan  1992            820            NaN               0.90   \n",
       "3  Afghanistan  1993            894            NaN               0.95   \n",
       "4  Afghanistan  1994            977            NaN               1.00   \n",
       "\n",
       "  population_total  \n",
       "0            12.4M  \n",
       "1            13.3M  \n",
       "2            14.5M  \n",
       "3            15.8M  \n",
       "4            17.1M  "
      ]
     },
     "execution_count": 12,
     "metadata": {},
     "output_type": "execute_result"
    }
   ],
   "source": [
    "df = df_ft_suicides_total.copy()\n",
    "\n",
    "features = [df_ft_gdp_per_capita, df_ft_mean_school_years, df_ft_population_total]\n",
    "\n",
    "for feature in features:\n",
    "    df = df.merge(\n",
    "        feature,\n",
    "        how='left',\n",
    "        on=['country', 'year']\n",
    "    )\n",
    "\n",
    "df.head()"
   ]
  },
  {
   "cell_type": "markdown",
   "metadata": {},
   "source": [
    "The last part of it was merging together all dataframes, in order to have only one big dataframe with the wanted features, all united by the keys **country** and **year**.\n",
    "\n",
    "As already commented, the merging was initiated by the dataframe with the _suicides_ feature, as it has a smaller universe of years, and is our main object of study. Usign a **LEFT JOIN** with all other dataframes, we avoid having `NaN` at suicides caused by years and countries with no data from other dataframes (especially the _population_ dataframe, that is the biggest one)."
   ]
  },
  {
   "cell_type": "code",
   "execution_count": 13,
   "metadata": {
    "scrolled": false
   },
   "outputs": [
    {
     "data": {
      "text/html": [
       "<div>\n",
       "<style scoped>\n",
       "    .dataframe tbody tr th:only-of-type {\n",
       "        vertical-align: middle;\n",
       "    }\n",
       "\n",
       "    .dataframe tbody tr th {\n",
       "        vertical-align: top;\n",
       "    }\n",
       "\n",
       "    .dataframe thead th {\n",
       "        text-align: right;\n",
       "    }\n",
       "</style>\n",
       "<table border=\"1\" class=\"dataframe\">\n",
       "  <thead>\n",
       "    <tr style=\"text-align: right;\">\n",
       "      <th></th>\n",
       "      <th>country</th>\n",
       "      <th>year</th>\n",
       "      <th>suicides_total</th>\n",
       "      <th>gdp_per_capita</th>\n",
       "      <th>mean_school_years</th>\n",
       "      <th>population_total</th>\n",
       "      <th>continent</th>\n",
       "    </tr>\n",
       "  </thead>\n",
       "  <tbody>\n",
       "    <tr>\n",
       "      <th>0</th>\n",
       "      <td>Afghanistan</td>\n",
       "      <td>1990</td>\n",
       "      <td>703</td>\n",
       "      <td>NaN</td>\n",
       "      <td>0.80</td>\n",
       "      <td>12.4M</td>\n",
       "      <td>Asia</td>\n",
       "    </tr>\n",
       "    <tr>\n",
       "      <th>1</th>\n",
       "      <td>Afghanistan</td>\n",
       "      <td>1991</td>\n",
       "      <td>754</td>\n",
       "      <td>NaN</td>\n",
       "      <td>0.90</td>\n",
       "      <td>13.3M</td>\n",
       "      <td>Asia</td>\n",
       "    </tr>\n",
       "    <tr>\n",
       "      <th>2</th>\n",
       "      <td>Afghanistan</td>\n",
       "      <td>1992</td>\n",
       "      <td>820</td>\n",
       "      <td>NaN</td>\n",
       "      <td>0.90</td>\n",
       "      <td>14.5M</td>\n",
       "      <td>Asia</td>\n",
       "    </tr>\n",
       "    <tr>\n",
       "      <th>3</th>\n",
       "      <td>Afghanistan</td>\n",
       "      <td>1993</td>\n",
       "      <td>894</td>\n",
       "      <td>NaN</td>\n",
       "      <td>0.95</td>\n",
       "      <td>15.8M</td>\n",
       "      <td>Asia</td>\n",
       "    </tr>\n",
       "    <tr>\n",
       "      <th>4</th>\n",
       "      <td>Afghanistan</td>\n",
       "      <td>1994</td>\n",
       "      <td>977</td>\n",
       "      <td>NaN</td>\n",
       "      <td>1.00</td>\n",
       "      <td>17.1M</td>\n",
       "      <td>Asia</td>\n",
       "    </tr>\n",
       "  </tbody>\n",
       "</table>\n",
       "</div>"
      ],
      "text/plain": [
       "       country  year suicides_total gdp_per_capita  mean_school_years  \\\n",
       "0  Afghanistan  1990            703            NaN               0.80   \n",
       "1  Afghanistan  1991            754            NaN               0.90   \n",
       "2  Afghanistan  1992            820            NaN               0.90   \n",
       "3  Afghanistan  1993            894            NaN               0.95   \n",
       "4  Afghanistan  1994            977            NaN               1.00   \n",
       "\n",
       "  population_total continent  \n",
       "0            12.4M      Asia  \n",
       "1            13.3M      Asia  \n",
       "2            14.5M      Asia  \n",
       "3            15.8M      Asia  \n",
       "4            17.1M      Asia  "
      ]
     },
     "execution_count": 13,
     "metadata": {},
     "output_type": "execute_result"
    }
   ],
   "source": [
    "df_country.rename(columns={'name': 'country', 'world_4region': 'continent'}, inplace=True)\n",
    "df_country.continent = df_country.continent.str.capitalize()\n",
    "\n",
    "df = df.merge(df_country, how='left', on='country')\n",
    "df.head()"
   ]
  },
  {
   "cell_type": "code",
   "execution_count": 14,
   "metadata": {},
   "outputs": [
    {
     "data": {
      "text/plain": [
       "False"
      ]
     },
     "execution_count": 14,
     "metadata": {},
     "output_type": "execute_result"
    }
   ],
   "source": [
    "any(df.continent.isna())"
   ]
  },
  {
   "cell_type": "markdown",
   "metadata": {},
   "source": [
    "The last part was including the column for continent for each country. Before merging both datasets, I renamed the columns on the `df_country` to match the _country_ column from the big dataset, and this way avoid duplicating columns by setting different columns to use as keys on merge. Also, to have everything in the same shape, I capitalized the name of the continents, so it will appear better on the visualizations.\n",
    "\n",
    "### Data Cleaning"
   ]
  },
  {
   "cell_type": "code",
   "execution_count": 15,
   "metadata": {
    "scrolled": true
   },
   "outputs": [
    {
     "name": "stdout",
     "output_type": "stream",
     "text": [
      "<class 'pandas.core.frame.DataFrame'>\n",
      "Int64Index: 5238 entries, 0 to 5237\n",
      "Data columns (total 7 columns):\n",
      " #   Column             Non-Null Count  Dtype  \n",
      "---  ------             --------------  -----  \n",
      " 0   country            5238 non-null   object \n",
      " 1   year               5238 non-null   object \n",
      " 2   suicides_total     5238 non-null   object \n",
      " 3   gdp_per_capita     4916 non-null   object \n",
      " 4   mean_school_years  3500 non-null   float64\n",
      " 5   population_total   5076 non-null   object \n",
      " 6   continent          5238 non-null   object \n",
      "dtypes: float64(1), object(6)\n",
      "memory usage: 327.4+ KB\n"
     ]
    }
   ],
   "source": [
    "df.info()"
   ]
  },
  {
   "cell_type": "markdown",
   "metadata": {},
   "source": [
    "As we can see, the only feature that is correctly a `float` is the `mean_school_years`. All the others are stored as a string, what difficults our further analysis. "
   ]
  },
  {
   "cell_type": "code",
   "execution_count": 16,
   "metadata": {
    "scrolled": true
   },
   "outputs": [
    {
     "data": {
      "text/html": [
       "<div>\n",
       "<style scoped>\n",
       "    .dataframe tbody tr th:only-of-type {\n",
       "        vertical-align: middle;\n",
       "    }\n",
       "\n",
       "    .dataframe tbody tr th {\n",
       "        vertical-align: top;\n",
       "    }\n",
       "\n",
       "    .dataframe thead th {\n",
       "        text-align: right;\n",
       "    }\n",
       "</style>\n",
       "<table border=\"1\" class=\"dataframe\">\n",
       "  <thead>\n",
       "    <tr style=\"text-align: right;\">\n",
       "      <th></th>\n",
       "      <th>country</th>\n",
       "      <th>year</th>\n",
       "      <th>suicides_total</th>\n",
       "      <th>gdp_per_capita</th>\n",
       "      <th>mean_school_years</th>\n",
       "      <th>population_total</th>\n",
       "      <th>continent</th>\n",
       "    </tr>\n",
       "  </thead>\n",
       "  <tbody>\n",
       "    <tr>\n",
       "      <th>0</th>\n",
       "      <td>Afghanistan</td>\n",
       "      <td>1990</td>\n",
       "      <td>703</td>\n",
       "      <td>NaN</td>\n",
       "      <td>0.80</td>\n",
       "      <td>12.4M</td>\n",
       "      <td>Asia</td>\n",
       "    </tr>\n",
       "    <tr>\n",
       "      <th>1</th>\n",
       "      <td>Afghanistan</td>\n",
       "      <td>1991</td>\n",
       "      <td>754</td>\n",
       "      <td>NaN</td>\n",
       "      <td>0.90</td>\n",
       "      <td>13.3M</td>\n",
       "      <td>Asia</td>\n",
       "    </tr>\n",
       "    <tr>\n",
       "      <th>2</th>\n",
       "      <td>Afghanistan</td>\n",
       "      <td>1992</td>\n",
       "      <td>820</td>\n",
       "      <td>NaN</td>\n",
       "      <td>0.90</td>\n",
       "      <td>14.5M</td>\n",
       "      <td>Asia</td>\n",
       "    </tr>\n",
       "    <tr>\n",
       "      <th>3</th>\n",
       "      <td>Afghanistan</td>\n",
       "      <td>1993</td>\n",
       "      <td>894</td>\n",
       "      <td>NaN</td>\n",
       "      <td>0.95</td>\n",
       "      <td>15.8M</td>\n",
       "      <td>Asia</td>\n",
       "    </tr>\n",
       "    <tr>\n",
       "      <th>4</th>\n",
       "      <td>Afghanistan</td>\n",
       "      <td>1994</td>\n",
       "      <td>977</td>\n",
       "      <td>NaN</td>\n",
       "      <td>1.00</td>\n",
       "      <td>17.1M</td>\n",
       "      <td>Asia</td>\n",
       "    </tr>\n",
       "  </tbody>\n",
       "</table>\n",
       "</div>"
      ],
      "text/plain": [
       "       country  year suicides_total gdp_per_capita  mean_school_years  \\\n",
       "0  Afghanistan  1990            703            NaN               0.80   \n",
       "1  Afghanistan  1991            754            NaN               0.90   \n",
       "2  Afghanistan  1992            820            NaN               0.90   \n",
       "3  Afghanistan  1993            894            NaN               0.95   \n",
       "4  Afghanistan  1994            977            NaN               1.00   \n",
       "\n",
       "  population_total continent  \n",
       "0            12.4M      Asia  \n",
       "1            13.3M      Asia  \n",
       "2            14.5M      Asia  \n",
       "3            15.8M      Asia  \n",
       "4            17.1M      Asia  "
      ]
     },
     "execution_count": 16,
     "metadata": {},
     "output_type": "execute_result"
    }
   ],
   "source": [
    "df.head()"
   ]
  },
  {
   "cell_type": "code",
   "execution_count": 17,
   "metadata": {},
   "outputs": [],
   "source": [
    "# Changing the year and suicides_total columns is just converting to int (small integer number)\n",
    "df.year = df.year.astype('int')"
   ]
  },
  {
   "cell_type": "code",
   "execution_count": 18,
   "metadata": {},
   "outputs": [],
   "source": [
    "df.dropna(inplace=True)"
   ]
  },
  {
   "cell_type": "markdown",
   "metadata": {},
   "source": [
    "Because we have some _NaN_ data, I decided to drop them all because using the average could lead to bad conclusions, as poor and uneducated countries could been taken as middle-tier countries. Dropping the missing data will only remove data from small countries, that usually are not so expressive on worldwide studies."
   ]
  },
  {
   "cell_type": "code",
   "execution_count": 19,
   "metadata": {
    "scrolled": true
   },
   "outputs": [
    {
     "data": {
      "text/html": [
       "<div>\n",
       "<style scoped>\n",
       "    .dataframe tbody tr th:only-of-type {\n",
       "        vertical-align: middle;\n",
       "    }\n",
       "\n",
       "    .dataframe tbody tr th {\n",
       "        vertical-align: top;\n",
       "    }\n",
       "\n",
       "    .dataframe thead th {\n",
       "        text-align: right;\n",
       "    }\n",
       "</style>\n",
       "<table border=\"1\" class=\"dataframe\">\n",
       "  <thead>\n",
       "    <tr style=\"text-align: right;\">\n",
       "      <th></th>\n",
       "      <th>country</th>\n",
       "      <th>year</th>\n",
       "      <th>suicides_total</th>\n",
       "      <th>gdp_per_capita</th>\n",
       "      <th>mean_school_years</th>\n",
       "      <th>population_total</th>\n",
       "      <th>continent</th>\n",
       "    </tr>\n",
       "  </thead>\n",
       "  <tbody>\n",
       "    <tr>\n",
       "      <th>12</th>\n",
       "      <td>Afghanistan</td>\n",
       "      <td>2002</td>\n",
       "      <td>1360.0</td>\n",
       "      <td>330.0</td>\n",
       "      <td>1.25</td>\n",
       "      <td>22600000.0</td>\n",
       "      <td>Asia</td>\n",
       "    </tr>\n",
       "    <tr>\n",
       "      <th>13</th>\n",
       "      <td>Afghanistan</td>\n",
       "      <td>2003</td>\n",
       "      <td>1450.0</td>\n",
       "      <td>343.0</td>\n",
       "      <td>1.30</td>\n",
       "      <td>23700000.0</td>\n",
       "      <td>Asia</td>\n",
       "    </tr>\n",
       "    <tr>\n",
       "      <th>14</th>\n",
       "      <td>Afghanistan</td>\n",
       "      <td>2004</td>\n",
       "      <td>1530.0</td>\n",
       "      <td>333.0</td>\n",
       "      <td>1.30</td>\n",
       "      <td>24700000.0</td>\n",
       "      <td>Asia</td>\n",
       "    </tr>\n",
       "    <tr>\n",
       "      <th>15</th>\n",
       "      <td>Afghanistan</td>\n",
       "      <td>2005</td>\n",
       "      <td>1600.0</td>\n",
       "      <td>357.0</td>\n",
       "      <td>1.35</td>\n",
       "      <td>25700000.0</td>\n",
       "      <td>Asia</td>\n",
       "    </tr>\n",
       "    <tr>\n",
       "      <th>16</th>\n",
       "      <td>Afghanistan</td>\n",
       "      <td>2006</td>\n",
       "      <td>1650.0</td>\n",
       "      <td>365.0</td>\n",
       "      <td>1.35</td>\n",
       "      <td>26400000.0</td>\n",
       "      <td>Asia</td>\n",
       "    </tr>\n",
       "  </tbody>\n",
       "</table>\n",
       "</div>"
      ],
      "text/plain": [
       "        country  year  suicides_total  gdp_per_capita  mean_school_years  \\\n",
       "12  Afghanistan  2002          1360.0           330.0               1.25   \n",
       "13  Afghanistan  2003          1450.0           343.0               1.30   \n",
       "14  Afghanistan  2004          1530.0           333.0               1.30   \n",
       "15  Afghanistan  2005          1600.0           357.0               1.35   \n",
       "16  Afghanistan  2006          1650.0           365.0               1.35   \n",
       "\n",
       "    population_total continent  \n",
       "12        22600000.0      Asia  \n",
       "13        23700000.0      Asia  \n",
       "14        24700000.0      Asia  \n",
       "15        25700000.0      Asia  \n",
       "16        26400000.0      Asia  "
      ]
     },
     "execution_count": 19,
     "metadata": {},
     "output_type": "execute_result"
    }
   ],
   "source": [
    "replace_dict = {'[kK]': '*1e3', '[mM]': '*1e6', '[bB]': '*1e9'}\n",
    "\n",
    "df.suicides_total = df.suicides_total.replace(replace_dict, regex=True).map(pd.eval).astype(float)\n",
    "df.gdp_per_capita = df.gdp_per_capita.replace(replace_dict, regex=True).map(pd.eval).astype(float)\n",
    "df.population_total = df.population_total.replace(replace_dict, regex=True).map(pd.eval).astype(float)\n",
    "df.head()"
   ]
  },
  {
   "cell_type": "code",
   "execution_count": 20,
   "metadata": {
    "scrolled": true
   },
   "outputs": [
    {
     "data": {
      "text/html": [
       "<div>\n",
       "<style scoped>\n",
       "    .dataframe tbody tr th:only-of-type {\n",
       "        vertical-align: middle;\n",
       "    }\n",
       "\n",
       "    .dataframe tbody tr th {\n",
       "        vertical-align: top;\n",
       "    }\n",
       "\n",
       "    .dataframe thead th {\n",
       "        text-align: right;\n",
       "    }\n",
       "</style>\n",
       "<table border=\"1\" class=\"dataframe\">\n",
       "  <thead>\n",
       "    <tr style=\"text-align: right;\">\n",
       "      <th></th>\n",
       "      <th>year</th>\n",
       "      <th>suicides_total</th>\n",
       "      <th>gdp_per_capita</th>\n",
       "      <th>mean_school_years</th>\n",
       "      <th>population_total</th>\n",
       "    </tr>\n",
       "  </thead>\n",
       "  <tbody>\n",
       "    <tr>\n",
       "      <th>count</th>\n",
       "      <td>3306.000000</td>\n",
       "      <td>3306.000000</td>\n",
       "      <td>3306.000000</td>\n",
       "      <td>3306.000000</td>\n",
       "      <td>3.306000e+03</td>\n",
       "    </tr>\n",
       "    <tr>\n",
       "      <th>mean</th>\n",
       "      <td>1999.716576</td>\n",
       "      <td>5001.475387</td>\n",
       "      <td>10462.252571</td>\n",
       "      <td>6.826407</td>\n",
       "      <td>3.617885e+07</td>\n",
       "    </tr>\n",
       "    <tr>\n",
       "      <th>std</th>\n",
       "      <td>5.720611</td>\n",
       "      <td>23164.040060</td>\n",
       "      <td>16303.886087</td>\n",
       "      <td>3.420012</td>\n",
       "      <td>1.317807e+08</td>\n",
       "    </tr>\n",
       "    <tr>\n",
       "      <th>min</th>\n",
       "      <td>1990.000000</td>\n",
       "      <td>1.270000</td>\n",
       "      <td>164.000000</td>\n",
       "      <td>0.400000</td>\n",
       "      <td>4.730000e+04</td>\n",
       "    </tr>\n",
       "    <tr>\n",
       "      <th>25%</th>\n",
       "      <td>1995.000000</td>\n",
       "      <td>196.000000</td>\n",
       "      <td>1120.000000</td>\n",
       "      <td>3.900000</td>\n",
       "      <td>2.755000e+06</td>\n",
       "    </tr>\n",
       "    <tr>\n",
       "      <th>50%</th>\n",
       "      <td>2000.000000</td>\n",
       "      <td>665.500000</td>\n",
       "      <td>3295.000000</td>\n",
       "      <td>6.700000</td>\n",
       "      <td>8.100000e+06</td>\n",
       "    </tr>\n",
       "    <tr>\n",
       "      <th>75%</th>\n",
       "      <td>2005.000000</td>\n",
       "      <td>2197.500000</td>\n",
       "      <td>10100.000000</td>\n",
       "      <td>9.900000</td>\n",
       "      <td>2.357500e+07</td>\n",
       "    </tr>\n",
       "    <tr>\n",
       "      <th>max</th>\n",
       "      <td>2009.000000</td>\n",
       "      <td>249000.000000</td>\n",
       "      <td>112000.000000</td>\n",
       "      <td>14.200000</td>\n",
       "      <td>1.360000e+09</td>\n",
       "    </tr>\n",
       "  </tbody>\n",
       "</table>\n",
       "</div>"
      ],
      "text/plain": [
       "              year  suicides_total  gdp_per_capita  mean_school_years  \\\n",
       "count  3306.000000     3306.000000     3306.000000        3306.000000   \n",
       "mean   1999.716576     5001.475387    10462.252571           6.826407   \n",
       "std       5.720611    23164.040060    16303.886087           3.420012   \n",
       "min    1990.000000        1.270000      164.000000           0.400000   \n",
       "25%    1995.000000      196.000000     1120.000000           3.900000   \n",
       "50%    2000.000000      665.500000     3295.000000           6.700000   \n",
       "75%    2005.000000     2197.500000    10100.000000           9.900000   \n",
       "max    2009.000000   249000.000000   112000.000000          14.200000   \n",
       "\n",
       "       population_total  \n",
       "count      3.306000e+03  \n",
       "mean       3.617885e+07  \n",
       "std        1.317807e+08  \n",
       "min        4.730000e+04  \n",
       "25%        2.755000e+06  \n",
       "50%        8.100000e+06  \n",
       "75%        2.357500e+07  \n",
       "max        1.360000e+09  "
      ]
     },
     "execution_count": 20,
     "metadata": {},
     "output_type": "execute_result"
    }
   ],
   "source": [
    "df.describe()"
   ]
  },
  {
   "cell_type": "code",
   "execution_count": 21,
   "metadata": {},
   "outputs": [
    {
     "name": "stdout",
     "output_type": "stream",
     "text": [
      "<class 'pandas.core.frame.DataFrame'>\n",
      "Int64Index: 3306 entries, 12 to 5230\n",
      "Data columns (total 7 columns):\n",
      " #   Column             Non-Null Count  Dtype  \n",
      "---  ------             --------------  -----  \n",
      " 0   country            3306 non-null   object \n",
      " 1   year               3306 non-null   int32  \n",
      " 2   suicides_total     3306 non-null   float64\n",
      " 3   gdp_per_capita     3306 non-null   float64\n",
      " 4   mean_school_years  3306 non-null   float64\n",
      " 5   population_total   3306 non-null   float64\n",
      " 6   continent          3306 non-null   object \n",
      "dtypes: float64(4), int32(1), object(2)\n",
      "memory usage: 193.7+ KB\n"
     ]
    }
   ],
   "source": [
    "df.info()"
   ]
  },
  {
   "cell_type": "markdown",
   "metadata": {},
   "source": [
    "<a id='eda'></a>\n",
    "## Exploratory Data Analysis\n",
    "\n",
    "### 1. How the suicidal numbers are growing worldwide over the time? Are they following the population growth?\n",
    "\n",
    "We can clearly see three different phases in the **suicide numbers** between 1990 and 2009 looking at its line chart:\n",
    "\n",
    "1. Between _1990_ and _1995_ the number is increasing at a very high rate, almost 20.000 more cases per year, which shows a much more accentuated growth than population growth during the same period.\n",
    "\n",
    "2. Between _1995_ and _2005_ the line changes to an horizontal one with peaks and valleys depending on the year. Besides having better and worse years during this period, the trendline of the period would be almost horizontal, but with a small declination, which means the **suicide numbers** started to decrease during this period, on average.\n",
    "\n",
    "3. Between _2005_ and _2009_ the line completely changes to full decreasing one, reducing around 10.000 cases per year during the period.\n",
    "\n",
    "If we compare the **population** line during the same period, it is basically stable at a 50.000.000 growth per year. If we look at a scatterplot having the _population_ on the X axis and _suicides_ on the Y axis, we can clearly see that there is no correlation between them, what is confirmed by the line charts: the population keeps growing each year at an almost constant rate, but the suicidal have very different behaviors depending on the period analysed, sometimes increasing, sometimes decreasing."
   ]
  },
  {
   "cell_type": "code",
   "execution_count": 22,
   "metadata": {},
   "outputs": [],
   "source": [
    "def plot_linechart(df, x_axis, y_axis, color, title, x_label, y_label):\n",
    "    sum_features.plot(\n",
    "        x=x_axis,\n",
    "        y=y_axis,\n",
    "        kind='line',\n",
    "        color=color,\n",
    "        figsize=(6, 3),\n",
    "        title=title,\n",
    "        xlabel=x_label,\n",
    "        ylabel=y_label\n",
    "    )\n",
    "    plt.locator_params(integer=True);"
   ]
  },
  {
   "cell_type": "code",
   "execution_count": 23,
   "metadata": {
    "scrolled": false
   },
   "outputs": [
    {
     "data": {
      "image/png": "[encoded data removed]",
      "text/plain": [
       "<Figure size 432x216 with 1 Axes>"
      ]
     },
     "metadata": {
      "needs_background": "light"
     },
     "output_type": "display_data"
    },
    {
     "data": {
      "image/png": "[encoded data removed]",
      "text/plain": [
       "<Figure size 432x216 with 1 Axes>"
      ]
     },
     "metadata": {
      "needs_background": "light"
     },
     "output_type": "display_data"
    }
   ],
   "source": [
    "sum_features = df.groupby('year', as_index=False).sum()\n",
    "\n",
    "plot_linechart(sum_features, 'year', 'suicides_total', 'red', 'Worldwide Suicides over the Years', 'Year', 'Suicides')\n",
    "plot_linechart(sum_features, 'year', 'population_total', 'blue', 'Worldwide Population over the Years', 'Year', 'Population')"
   ]
  },
  {
   "cell_type": "code",
   "execution_count": 24,
   "metadata": {},
   "outputs": [
    {
     "data": {
      "image/png": "[encoded data removed]",
      "text/plain": [
       "<Figure size 432x288 with 1 Axes>"
      ]
     },
     "metadata": {
      "needs_background": "light"
     },
     "output_type": "display_data"
    }
   ],
   "source": [
    "sum_features.plot(\n",
    "    kind='scatter',\n",
    "    y='population_total',\n",
    "    x='suicides_total',\n",
    "    title='Suicides by Population Worldwide',\n",
    "    xlabel='Population',\n",
    "    ylabel='Suicides'\n",
    ");"
   ]
  },
  {
   "cell_type": "markdown",
   "metadata": {},
   "source": [
    "### 2. Is there any relation between economic and suicidal numbers of the countries? And what about educational level?\n",
    "\n",
    "In order to compare better the correlation between the features, I created a new column called *suicidal rate*, that is basically the _number of suicides_ divided by the _total population_ of each country. Also, I took only the last year available, as in general it represents the highest GDP and education leve of the countries, as it has been improving over the time.\n",
    "\n",
    "Having this considerations, we can plot both _scatterplots_ to compare the correlation between the _GDP per capita_ and _education level_ with the _suicidal rate_ in each country.\n",
    "\n",
    "1. **GDP per capita:** it almost none correlation with the suicidal rate, as most of the countries have a very low GDP per capita and also suicidal rate, and the points spreads both horizontally and vertically over the chart.\n",
    "\n",
    "2. **Mean school years (education level):** although the correlation is not so strong as the points are a little spread over the chart on the left side of the X axis, we can see a stronger correlation between it and the suicidal rate. We can say that the higher is the education level, it has a chance that the suicidal rate will be higher also.\n",
    "\n",
    "We can group the top 20 countries with best education level and compare the average suicidal rate with all the other countries. This will lead to an incredible **166%** higher suicidal rate (0,019% suicidal rate on top countries against 0,011% on the rest of the list), showing that there is a correlation between educational level and suicidal rate on the countries worldwide."
   ]
  },
  {
   "cell_type": "code",
   "execution_count": 25,
   "metadata": {
    "scrolled": false
   },
   "outputs": [
    {
     "name": "stderr",
     "output_type": "stream",
     "text": [
      "C:\\tools\\Anaconda3\\lib\\site-packages\\pandas\\core\\frame.py:3607: SettingWithCopyWarning: \n",
      "A value is trying to be set on a copy of a slice from a DataFrame.\n",
      "Try using .loc[row_indexer,col_indexer] = value instead\n",
      "\n",
      "See the caveats in the documentation: https://pandas.pydata.org/pandas-docs/stable/user_guide/indexing.html#returning-a-view-versus-a-copy\n",
      "  self._set_item(key, value)\n"
     ]
    },
    {
     "data": {
      "text/html": [
       "<div>\n",
       "<style scoped>\n",
       "    .dataframe tbody tr th:only-of-type {\n",
       "        vertical-align: middle;\n",
       "    }\n",
       "\n",
       "    .dataframe tbody tr th {\n",
       "        vertical-align: top;\n",
       "    }\n",
       "\n",
       "    .dataframe thead th {\n",
       "        text-align: right;\n",
       "    }\n",
       "</style>\n",
       "<table border=\"1\" class=\"dataframe\">\n",
       "  <thead>\n",
       "    <tr style=\"text-align: right;\">\n",
       "      <th></th>\n",
       "      <th>country</th>\n",
       "      <th>year</th>\n",
       "      <th>suicides_total</th>\n",
       "      <th>gdp_per_capita</th>\n",
       "      <th>mean_school_years</th>\n",
       "      <th>population_total</th>\n",
       "      <th>continent</th>\n",
       "      <th>suicidal_rate</th>\n",
       "    </tr>\n",
       "  </thead>\n",
       "  <tbody>\n",
       "    <tr>\n",
       "      <th>19</th>\n",
       "      <td>Afghanistan</td>\n",
       "      <td>2009</td>\n",
       "      <td>1750.0</td>\n",
       "      <td>488.0</td>\n",
       "      <td>1.50</td>\n",
       "      <td>28400000.0</td>\n",
       "      <td>Asia</td>\n",
       "      <td>0.000062</td>\n",
       "    </tr>\n",
       "    <tr>\n",
       "      <th>46</th>\n",
       "      <td>Angola</td>\n",
       "      <td>2009</td>\n",
       "      <td>1080.0</td>\n",
       "      <td>3550.0</td>\n",
       "      <td>3.95</td>\n",
       "      <td>22500000.0</td>\n",
       "      <td>Africa</td>\n",
       "      <td>0.000048</td>\n",
       "    </tr>\n",
       "    <tr>\n",
       "      <th>73</th>\n",
       "      <td>Albania</td>\n",
       "      <td>2009</td>\n",
       "      <td>201.0</td>\n",
       "      <td>3930.0</td>\n",
       "      <td>9.80</td>\n",
       "      <td>2970000.0</td>\n",
       "      <td>Europe</td>\n",
       "      <td>0.000068</td>\n",
       "    </tr>\n",
       "    <tr>\n",
       "      <th>127</th>\n",
       "      <td>United Arab Emirates</td>\n",
       "      <td>2009</td>\n",
       "      <td>358.0</td>\n",
       "      <td>36000.0</td>\n",
       "      <td>8.90</td>\n",
       "      <td>7920000.0</td>\n",
       "      <td>Asia</td>\n",
       "      <td>0.000045</td>\n",
       "    </tr>\n",
       "    <tr>\n",
       "      <th>154</th>\n",
       "      <td>Argentina</td>\n",
       "      <td>2009</td>\n",
       "      <td>4640.0</td>\n",
       "      <td>9500.0</td>\n",
       "      <td>9.95</td>\n",
       "      <td>40500000.0</td>\n",
       "      <td>Americas</td>\n",
       "      <td>0.000115</td>\n",
       "    </tr>\n",
       "  </tbody>\n",
       "</table>\n",
       "</div>"
      ],
      "text/plain": [
       "                  country  year  suicides_total  gdp_per_capita  \\\n",
       "19            Afghanistan  2009          1750.0           488.0   \n",
       "46                 Angola  2009          1080.0          3550.0   \n",
       "73                Albania  2009           201.0          3930.0   \n",
       "127  United Arab Emirates  2009           358.0         36000.0   \n",
       "154             Argentina  2009          4640.0          9500.0   \n",
       "\n",
       "     mean_school_years  population_total continent  suicidal_rate  \n",
       "19                1.50        28400000.0      Asia       0.000062  \n",
       "46                3.95        22500000.0    Africa       0.000048  \n",
       "73                9.80         2970000.0    Europe       0.000068  \n",
       "127               8.90         7920000.0      Asia       0.000045  \n",
       "154               9.95        40500000.0  Americas       0.000115  "
      ]
     },
     "execution_count": 25,
     "metadata": {},
     "output_type": "execute_result"
    }
   ],
   "source": [
    "df_2009 = df.query('year == 2009')\n",
    "\n",
    "df_2009['suicidal_rate'] = df_2009['suicides_total'] / df_2009['population_total']\n",
    "df_2009.head()"
   ]
  },
  {
   "cell_type": "code",
   "execution_count": 26,
   "metadata": {},
   "outputs": [],
   "source": [
    "def plot_scatterchart(df, x, y, title, xlabel, ylabel):\n",
    "    df.plot(kind='scatter', x=x, y=y, rot=45, title=title, xlabel=xlabel, ylabel=ylabel);"
   ]
  },
  {
   "cell_type": "code",
   "execution_count": 27,
   "metadata": {
    "scrolled": false
   },
   "outputs": [
    {
     "data": {
      "image/png": "[encoded data removed]",
      "text/plain": [
       "<Figure size 432x288 with 1 Axes>"
      ]
     },
     "metadata": {
      "needs_background": "light"
     },
     "output_type": "display_data"
    },
    {
     "data": {
      "image/png": "[encoded data removed]",
      "text/plain": [
       "<Figure size 432x288 with 1 Axes>"
      ]
     },
     "metadata": {
      "needs_background": "light"
     },
     "output_type": "display_data"
    }
   ],
   "source": [
    "xlabel = 'Suicidal Rate'\n",
    "plot_scatterchart(df_2009, 'suicidal_rate', 'gdp_per_capita', 'Suicidal Rate by GDP per Capita', xlabel, 'GDP per Capita');\n",
    "plot_scatterchart(df_2009, 'suicidal_rate', 'mean_school_years', 'Suicidal Rate by Mean Years in School', xlabel, 'Mean Years in School');"
   ]
  },
  {
   "cell_type": "code",
   "execution_count": 28,
   "metadata": {},
   "outputs": [
    {
     "name": "stdout",
     "output_type": "stream",
     "text": [
      "Top 20: 0.019%\n",
      "Others: 0.011%\n",
      "Difference: 166%\n"
     ]
    }
   ],
   "source": [
    "top_20 = df_2009.sort_values('mean_school_years', ascending=False).head(20)['suicidal_rate'].mean()\n",
    "others = df_2009.sort_values('mean_school_years', ascending=True).tail(151)['suicidal_rate'].mean()\n",
    "\n",
    "print(f'Top 20: {round(top_20 * 100, 3)}%')\n",
    "print(f'Others: {round(others * 100, 3)}%')\n",
    "print(f'Difference: {round((top_20 / others) * 100)}%')"
   ]
  },
  {
   "cell_type": "markdown",
   "metadata": {},
   "source": [
    "### 3. If we separate the suicidal rate for each continent, how different each one behaves during the period?\n",
    "\n",
    "Here we have a very interesting behavior. Each continent has a very different **suicidal rate** that is, on average, a horizontal line over the period: this can be seen as we do not have lines crossing through the chart.\n",
    "\n",
    "1. _Europe_ is the highest _suicidal rate_, but is the most unstable during the period, havin a expressive increase between 1990 and 1995, and then decreasing gradually the rate.\n",
    "\n",
    "2. _Asia_ has the second highest suicidal rate, but it has been slowly and constantly decreasing over the period, getting closer to the american line each year.\n",
    "\n",
    "3. _Americas_ are the third highest suicidal rate, being almost a horizontal line over the period, but with a very small increasing rate, especially after the beginning of 21st century.\n",
    "\n",
    "4. The smallest suicidal rate is from _Africa_, and this is interesting as Africa has the lowest _GDP per Capita_ and also the lowest _educational level_. If we compare the european suicidal rate with african one, the european is almost 338% higher."
   ]
  },
  {
   "cell_type": "code",
   "execution_count": 29,
   "metadata": {
    "scrolled": false
   },
   "outputs": [
    {
     "data": {
      "text/html": [
       "<div>\n",
       "<style scoped>\n",
       "    .dataframe tbody tr th:only-of-type {\n",
       "        vertical-align: middle;\n",
       "    }\n",
       "\n",
       "    .dataframe tbody tr th {\n",
       "        vertical-align: top;\n",
       "    }\n",
       "\n",
       "    .dataframe thead th {\n",
       "        text-align: right;\n",
       "    }\n",
       "</style>\n",
       "<table border=\"1\" class=\"dataframe\">\n",
       "  <thead>\n",
       "    <tr style=\"text-align: right;\">\n",
       "      <th></th>\n",
       "      <th>continent</th>\n",
       "      <th>year</th>\n",
       "      <th>suicides_total</th>\n",
       "      <th>gdp_per_capita</th>\n",
       "      <th>mean_school_years</th>\n",
       "      <th>population_total</th>\n",
       "      <th>suicidal_rate</th>\n",
       "    </tr>\n",
       "  </thead>\n",
       "  <tbody>\n",
       "    <tr>\n",
       "      <th>0</th>\n",
       "      <td>Africa</td>\n",
       "      <td>1990</td>\n",
       "      <td>36716.4</td>\n",
       "      <td>78966.0</td>\n",
       "      <td>123.30</td>\n",
       "      <td>607131600.0</td>\n",
       "      <td>0.000060</td>\n",
       "    </tr>\n",
       "    <tr>\n",
       "      <th>1</th>\n",
       "      <td>Africa</td>\n",
       "      <td>1991</td>\n",
       "      <td>37902.7</td>\n",
       "      <td>79226.0</td>\n",
       "      <td>127.45</td>\n",
       "      <td>624106400.0</td>\n",
       "      <td>0.000061</td>\n",
       "    </tr>\n",
       "    <tr>\n",
       "      <th>2</th>\n",
       "      <td>Africa</td>\n",
       "      <td>1992</td>\n",
       "      <td>39497.5</td>\n",
       "      <td>79133.0</td>\n",
       "      <td>133.15</td>\n",
       "      <td>643478700.0</td>\n",
       "      <td>0.000061</td>\n",
       "    </tr>\n",
       "    <tr>\n",
       "      <th>3</th>\n",
       "      <td>Africa</td>\n",
       "      <td>1993</td>\n",
       "      <td>40620.5</td>\n",
       "      <td>78360.0</td>\n",
       "      <td>137.70</td>\n",
       "      <td>661300100.0</td>\n",
       "      <td>0.000061</td>\n",
       "    </tr>\n",
       "    <tr>\n",
       "      <th>4</th>\n",
       "      <td>Africa</td>\n",
       "      <td>1994</td>\n",
       "      <td>42102.7</td>\n",
       "      <td>78026.0</td>\n",
       "      <td>142.50</td>\n",
       "      <td>678170400.0</td>\n",
       "      <td>0.000062</td>\n",
       "    </tr>\n",
       "  </tbody>\n",
       "</table>\n",
       "</div>"
      ],
      "text/plain": [
       "  continent  year  suicides_total  gdp_per_capita  mean_school_years  \\\n",
       "0    Africa  1990         36716.4         78966.0             123.30   \n",
       "1    Africa  1991         37902.7         79226.0             127.45   \n",
       "2    Africa  1992         39497.5         79133.0             133.15   \n",
       "3    Africa  1993         40620.5         78360.0             137.70   \n",
       "4    Africa  1994         42102.7         78026.0             142.50   \n",
       "\n",
       "   population_total  suicidal_rate  \n",
       "0       607131600.0       0.000060  \n",
       "1       624106400.0       0.000061  \n",
       "2       643478700.0       0.000061  \n",
       "3       661300100.0       0.000061  \n",
       "4       678170400.0       0.000062  "
      ]
     },
     "execution_count": 29,
     "metadata": {},
     "output_type": "execute_result"
    }
   ],
   "source": [
    "df_continent = df.groupby(['continent', 'year'], as_index=False).sum()\n",
    "df_continent['suicidal_rate'] = df_continent['suicides_total'] / df_continent['population_total']\n",
    "df_continent.head()"
   ]
  },
  {
   "cell_type": "code",
   "execution_count": 33,
   "metadata": {
    "scrolled": false
   },
   "outputs": [
    {
     "data": {
      "image/png": "[encoded data removed]",
      "text/plain": [
       "<Figure size 432x288 with 1 Axes>"
      ]
     },
     "metadata": {
      "needs_background": "light"
     },
     "output_type": "display_data"
    }
   ],
   "source": [
    "plt.title('Suicidal rate by continent over the years')\n",
    "plt.xlabel('Year')\n",
    "plt.ylabel('Suicidal Rate')\n",
    "plt.locator_params(integer=True)\n",
    "sns.lineplot(x='year', y='suicidal_rate', data=df_continent, hue='continent');"
   ]
  },
  {
   "cell_type": "code",
   "execution_count": 31,
   "metadata": {},
   "outputs": [
    {
     "data": {
      "text/html": [
       "<div>\n",
       "<style scoped>\n",
       "    .dataframe tbody tr th:only-of-type {\n",
       "        vertical-align: middle;\n",
       "    }\n",
       "\n",
       "    .dataframe tbody tr th {\n",
       "        vertical-align: top;\n",
       "    }\n",
       "\n",
       "    .dataframe thead th {\n",
       "        text-align: right;\n",
       "    }\n",
       "</style>\n",
       "<table border=\"1\" class=\"dataframe\">\n",
       "  <thead>\n",
       "    <tr style=\"text-align: right;\">\n",
       "      <th></th>\n",
       "      <th>gdp_per_capita</th>\n",
       "      <th>mean_school_years</th>\n",
       "    </tr>\n",
       "    <tr>\n",
       "      <th>continent</th>\n",
       "      <th></th>\n",
       "      <th></th>\n",
       "    </tr>\n",
       "  </thead>\n",
       "  <tbody>\n",
       "    <tr>\n",
       "      <th>Africa</th>\n",
       "      <td>1942.855681</td>\n",
       "      <td>3.558444</td>\n",
       "    </tr>\n",
       "    <tr>\n",
       "      <th>Americas</th>\n",
       "      <td>8748.880000</td>\n",
       "      <td>7.593000</td>\n",
       "    </tr>\n",
       "    <tr>\n",
       "      <th>Asia</th>\n",
       "      <td>9631.909774</td>\n",
       "      <td>6.713910</td>\n",
       "    </tr>\n",
       "    <tr>\n",
       "      <th>Europe</th>\n",
       "      <td>23149.625313</td>\n",
       "      <td>10.382268</td>\n",
       "    </tr>\n",
       "  </tbody>\n",
       "</table>\n",
       "</div>"
      ],
      "text/plain": [
       "           gdp_per_capita  mean_school_years\n",
       "continent                                   \n",
       "Africa        1942.855681           3.558444\n",
       "Americas      8748.880000           7.593000\n",
       "Asia          9631.909774           6.713910\n",
       "Europe       23149.625313          10.382268"
      ]
     },
     "execution_count": 31,
     "metadata": {},
     "output_type": "execute_result"
    }
   ],
   "source": [
    "df.groupby('continent')[['gdp_per_capita', 'mean_school_years']].mean()"
   ]
  },
  {
   "cell_type": "code",
   "execution_count": 32,
   "metadata": {},
   "outputs": [
    {
     "name": "stdout",
     "output_type": "stream",
     "text": [
      "Difference between Europe and Africa: 338%\n"
     ]
    }
   ],
   "source": [
    "europe = df_continent.query('continent == \"Europe\"')['suicidal_rate'].mean()\n",
    "africa = df_continent.query('continent == \"Africa\"')['suicidal_rate'].mean()\n",
    "\n",
    "print(f'Difference between Europe and Africa: {round((europe / africa) * 100)}%')"
   ]
  },
  {
   "cell_type": "markdown",
   "metadata": {},
   "source": [
    "<a id='conclusions'></a>\n",
    "## Conclusions\n",
    "\n",
    "First of all, is important to say that any study with mental health and suicides cannot be analysed only by the numbers, but also needs a social and psychological study to understand all the aspects that can affect the final numbers. This study is just for practice, and lacks of sociological and psychological aspects that are necessary to better understand the object.\n",
    "\n",
    "This said, looking only for the numbers and data available for this study, we can say three different things about the suicidal numbers between 1990 and 2009:\n",
    "\n",
    "1. We had a high increasing rate of suicide numbers on the first half of 90', but then it stabilized and begin to decrease on the second half of 00', what means that we are getting better with the mental health and suicidal numbers.\n",
    "\n",
    "2. We have an interesting correlation between educational level (mean years in school) and suicidal rates: the higher a population stays in schools means a higher chance that the suicidal rate is worse. We cannot take further conclusions on this, as it demands social and psychological studies. This evidence is even stronger if we compare the top 20 educated countries with the rest of the world: the suicidal rate is almost 166% higher on well-educated countries.\n",
    "\n",
    "3. Each continent has a very different suicidal rate during the period, and the lines do not even cross between them on the chart. The Europe has the higher suicidal rate, and it was unstable during the 2 decades, increasing on the beginning but decreasing at the end. Asia has constantly decreasing with a expressive rate, and both America and Africa had almost no change during the period, being almost horizontal lines on the chart."
   ]
  }
 ],
 "metadata": {
  "kernelspec": {
   "display_name": "Python 3",
   "language": "python",
   "name": "python3"
  },
  "language_info": {
   "codemirror_mode": {
    "name": "ipython",
    "version": 3
   },
   "file_extension": ".py",
   "mimetype": "text/x-python",
   "name": "python",
   "nbconvert_exporter": "python",
   "pygments_lexer": "ipython3",
   "version": "3.8.10"
  }
 },
 "nbformat": 4,
 "nbformat_minor": 2
}
